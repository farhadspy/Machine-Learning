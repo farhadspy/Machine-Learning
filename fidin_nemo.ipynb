{
 "cells": [
  {
   "cell_type": "markdown",
   "id": "40fbfa8d",
   "metadata": {},
   "source": [
    "- pip install pyqt5\n",
    "- pip install opencv-python"
   ]
  },
  {
   "cell_type": "code",
   "execution_count": 11,
   "id": "8db3eea4",
   "metadata": {},
   "outputs": [],
   "source": [
    "%matplotlib qt\n",
    "#%matplotlib inline"
   ]
  },
  {
   "cell_type": "code",
   "execution_count": 12,
   "id": "d98294ff",
   "metadata": {},
   "outputs": [],
   "source": [
    "import numpy as np\n",
    "import matplotlib.pyplot as plt\n",
    "import cv2\n",
    "from knn import KNN"
   ]
  },
  {
   "cell_type": "code",
   "execution_count": 13,
   "id": "fac0e256",
   "metadata": {},
   "outputs": [],
   "source": [
    "nemo = cv2.imread(\"C:/Users/Farhad/Desktop/python/Machine_Learning/nemo/nemo1.jpg\")\n",
    "nemo = cv2.resize(nemo, (0,0), fx=0.25 , fy=0.25)\n",
    "nemo = cv2.cvtColor(nemo, cv2.COLOR_BGR2RGB)\n",
    "plt.imshow(nemo)\n",
    "plt.show()"
   ]
  },
  {
   "cell_type": "code",
   "execution_count": 21,
   "id": "648b5c42",
   "metadata": {},
   "outputs": [],
   "source": [
    "pixels_list_rgb = nemo.reshape(-1, 3)\n",
    "pixels_list_rgb.shape\n",
    "\n",
    "fig = plt.figure(figsize=(8, 8))\n",
    "ax = fig.add_subplot(projection='3d')\n",
    "ax.scatter(pixels_list_rgb[:, 0], pixels_list_rgb[:, 1], pixels_list_rgb[:, 2], c=pixels_list_rgb / 255)\n",
    "ax.set_xlabel(\"Hue\")\n",
    "ax.set_ylabel(\"Saturation\")\n",
    "ax.set_zlabel(\"Value\")\n",
    "plt.show()"
   ]
  },
  {
   "cell_type": "code",
   "execution_count": 18,
   "id": "c34ef11a",
   "metadata": {},
   "outputs": [],
   "source": [
    "nemo_hsv = cv2.cvtColor(nemo , cv2.COLOR_RGB2HSV)"
   ]
  },
  {
   "cell_type": "code",
   "execution_count": 22,
   "id": "6114cedc",
   "metadata": {},
   "outputs": [],
   "source": [
    "pixels_list_hsv = nemo.reshape(-1, 3)\n",
    "pixels_list_hsv.shape\n",
    "\n",
    "fig = plt.figure(figsize=(8, 8))\n",
    "ax = fig.add_subplot(projection='3d')\n",
    "ax.scatter(pixels_list_hsv[:, 0], pixels_list_hsv[:, 1], pixels_list_hsv[:, 2], c=pixels_list_rgb / 255)\n",
    "ax.set_xlabel(\"Hue\")\n",
    "ax.set_ylabel(\"Saturation\")\n",
    "ax.set_zlabel(\"Value\")\n",
    "plt.show()"
   ]
  },
  {
   "cell_type": "code",
   "execution_count": 33,
   "id": "3bdf7467",
   "metadata": {},
   "outputs": [],
   "source": [
    "light_orange = (1, 190, 200)\n",
    "dark_orange = (18, 255, 255)\n",
    "mask_orange = cv2.inRange(nemo_hsv, light_orange, dark_orange)\n",
    "plt.imshow(mask_orange, cmap='gray')\n",
    "plt.show()"
   ]
  },
  {
   "cell_type": "code",
   "execution_count": 34,
   "id": "368ce804",
   "metadata": {},
   "outputs": [],
   "source": [
    "light_white = (0, 0, 200)\n",
    "dark_white = (145, 60, 255)\n",
    "mask_white = cv2.inRange(nemo_hsv, light_white, dark_white)\n",
    "plt.imshow(mask_white, cmap='gray')\n",
    "plt.show()"
   ]
  },
  {
   "cell_type": "code",
   "execution_count": 36,
   "id": "4cd5ee6a",
   "metadata": {},
   "outputs": [],
   "source": [
    "final_mask = mask_orange + mask_white\n",
    "plt.imshow(final_mask, cmap='gray')\n",
    "plt.show()"
   ]
  },
  {
   "cell_type": "code",
   "execution_count": 37,
   "id": "e20f23f0",
   "metadata": {},
   "outputs": [],
   "source": [
    "final_result = cv2.bitwise_and(nemo, nemo, mask=final_mask)\n",
    "plt.imshow(final_result)\n",
    "plt.show()"
   ]
  },
  {
   "cell_type": "code",
   "execution_count": 38,
   "id": "d376a1f4",
   "metadata": {},
   "outputs": [
    {
     "data": {
      "text/plain": [
       "(45000, 3)"
      ]
     },
     "execution_count": 38,
     "metadata": {},
     "output_type": "execute_result"
    }
   ],
   "source": [
    "X_train = pixels_list_hsv / 255\n",
    "X_train.shape"
   ]
  },
  {
   "cell_type": "code",
   "execution_count": 44,
   "id": "4b1a4994",
   "metadata": {},
   "outputs": [
    {
     "data": {
      "text/plain": [
       "(45000,)"
      ]
     },
     "execution_count": 44,
     "metadata": {},
     "output_type": "execute_result"
    }
   ],
   "source": [
    "Y_train = final_mask.reshape(-1,) // 255\n",
    "Y_train.shape"
   ]
  },
  {
   "cell_type": "code",
   "execution_count": 45,
   "id": "2d214b5e",
   "metadata": {},
   "outputs": [],
   "source": [
    "knn = KNN(k=3)\n",
    "knn.fit(X_train, Y_train)"
   ]
  },
  {
   "cell_type": "code",
   "execution_count": 47,
   "id": "bb23b509",
   "metadata": {},
   "outputs": [
    {
     "data": {
      "text/plain": [
       "[np.int64(0)]"
      ]
     },
     "execution_count": 47,
     "metadata": {},
     "output_type": "execute_result"
    }
   ],
   "source": [
    "new_pixel = np.array([10,200,255]) / 255\n",
    "knn.predict([new_pixel])"
   ]
  },
  {
   "cell_type": "code",
   "execution_count": 64,
   "id": "eb592918",
   "metadata": {},
   "outputs": [],
   "source": [
    "nemo2 = cv2.imread(\"C:/Users/Farhad/Desktop/python/Machine_Learning/nemo/nemo2.jpg\")\n",
    "\n",
    "nemo2 = cv2.resize(nemo2, (0,0), fx=0.25 , fy=0.25)\n",
    "nemo2 = cv2.cvtColor(nemo2, cv2.COLOR_BGR2RGB)\n",
    "plt.imshow(nemo2)\n",
    "plt.show()"
   ]
  },
  {
   "cell_type": "code",
   "execution_count": 65,
   "id": "1c615031",
   "metadata": {},
   "outputs": [],
   "source": [
    "nemo2_hsv = cv2.cvtColor(nemo2 , cv2.COLOR_RGB2HSV)"
   ]
  },
  {
   "cell_type": "code",
   "execution_count": 66,
   "id": "f1f23ae8",
   "metadata": {},
   "outputs": [
    {
     "data": {
      "text/plain": [
       "(16800, 3)"
      ]
     },
     "execution_count": 66,
     "metadata": {},
     "output_type": "execute_result"
    }
   ],
   "source": [
    "nemo2_hsv = nemo2.reshape(-1, 3)\n",
    "nemo2_hsv.shape"
   ]
  },
  {
   "cell_type": "code",
   "execution_count": 67,
   "id": "925ee923",
   "metadata": {},
   "outputs": [
    {
     "data": {
      "text/plain": [
       "(16800, 3)"
      ]
     },
     "execution_count": 67,
     "metadata": {},
     "output_type": "execute_result"
    }
   ],
   "source": [
    "X_test = nemo2_hsv.reshape(-1, 3) / 255\n",
    "X_test.shape"
   ]
  },
  {
   "cell_type": "code",
   "execution_count": 68,
   "id": "eb6f1dcc",
   "metadata": {},
   "outputs": [
    {
     "ename": "KeyboardInterrupt",
     "evalue": "",
     "output_type": "error",
     "traceback": [
      "\u001b[31m---------------------------------------------------------------------------\u001b[39m",
      "\u001b[31mKeyboardInterrupt\u001b[39m                         Traceback (most recent call last)",
      "\u001b[36mCell\u001b[39m\u001b[36m \u001b[39m\u001b[32mIn[68]\u001b[39m\u001b[32m, line 1\u001b[39m\n\u001b[32m----> \u001b[39m\u001b[32m1\u001b[39m Y_pred = \u001b[43mknn\u001b[49m\u001b[43m.\u001b[49m\u001b[43mpredict\u001b[49m\u001b[43m(\u001b[49m\u001b[43mX_test\u001b[49m\u001b[43m)\u001b[49m\n",
      "\u001b[36mFile \u001b[39m\u001b[32mc:\\Users\\Farhad\\Desktop\\python\\Machine_Learning\\knn.py:20\u001b[39m, in \u001b[36mKNN.predict\u001b[39m\u001b[34m(self, X)\u001b[39m\n\u001b[32m     18\u001b[39m distances = []\n\u001b[32m     19\u001b[39m \u001b[38;5;28;01mfor\u001b[39;00m x_train \u001b[38;5;129;01min\u001b[39;00m \u001b[38;5;28mself\u001b[39m.X_train:\n\u001b[32m---> \u001b[39m\u001b[32m20\u001b[39m     d = \u001b[38;5;28;43mself\u001b[39;49m\u001b[43m.\u001b[49m\u001b[43meuclidean_distance\u001b[49m\u001b[43m(\u001b[49m\u001b[43mx\u001b[49m\u001b[43m \u001b[49m\u001b[43m,\u001b[49m\u001b[43mx_train\u001b[49m\u001b[43m)\u001b[49m\n\u001b[32m     21\u001b[39m     distances.append(d)   \u001b[38;5;66;03m# distances = [1.21165165 , 3.24298468 , 2.268298424 , 1.284642426 , 0.28249498 , ...]\u001b[39;00m\n\u001b[32m     23\u001b[39m clean_distances = [p.item() \u001b[38;5;28;01mfor\u001b[39;00m p \u001b[38;5;129;01min\u001b[39;00m distances]\n",
      "\u001b[36mFile \u001b[39m\u001b[32mc:\\Users\\Farhad\\Desktop\\python\\Machine_Learning\\knn.py:13\u001b[39m, in \u001b[36mKNN.euclidean_distance\u001b[39m\u001b[34m(self, x1, x2)\u001b[39m\n\u001b[32m     12\u001b[39m \u001b[38;5;28;01mdef\u001b[39;00m\u001b[38;5;250m \u001b[39m\u001b[34meuclidean_distance\u001b[39m(\u001b[38;5;28mself\u001b[39m, x1 ,x2):\n\u001b[32m---> \u001b[39m\u001b[32m13\u001b[39m     \u001b[38;5;28;01mreturn\u001b[39;00m np.sqrt(\u001b[43mnp\u001b[49m\u001b[43m.\u001b[49m\u001b[43msum\u001b[49m\u001b[43m(\u001b[49m\u001b[43m(\u001b[49m\u001b[43mx1\u001b[49m\u001b[43m \u001b[49m\u001b[43m-\u001b[49m\u001b[43m \u001b[49m\u001b[43mx2\u001b[49m\u001b[43m)\u001b[49m\u001b[43m*\u001b[49m\u001b[43m*\u001b[49m\u001b[32;43m2\u001b[39;49m\u001b[43m)\u001b[49m)\n",
      "\u001b[31mKeyboardInterrupt\u001b[39m: "
     ]
    }
   ],
   "source": [
    "Y_pred = knn.predict(X_test)"
   ]
  },
  {
   "cell_type": "code",
   "execution_count": null,
   "id": "a680ec8b",
   "metadata": {},
   "outputs": [],
   "source": [
    "output = Y_pred.reshape(nemo2.shape[:2])\n",
    "plt.imshow(output, cmap='gray')\n",
    "plt.show()"
   ]
  }
 ],
 "metadata": {
  "kernelspec": {
   "display_name": "Python 3",
   "language": "python",
   "name": "python3"
  },
  "language_info": {
   "codemirror_mode": {
    "name": "ipython",
    "version": 3
   },
   "file_extension": ".py",
   "mimetype": "text/x-python",
   "name": "python",
   "nbconvert_exporter": "python",
   "pygments_lexer": "ipython3",
   "version": "3.12.10"
  }
 },
 "nbformat": 4,
 "nbformat_minor": 5
}
