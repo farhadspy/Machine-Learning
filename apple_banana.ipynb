{
 "cells": [
  {
   "cell_type": "markdown",
   "id": "793e77b4",
   "metadata": {},
   "source": [
    "- pip install jupyter\n",
    "- pip install numpy\n",
    "- pip install matplotlib\n",
    "\n"
   ]
  },
  {
   "cell_type": "code",
   "execution_count": 99,
   "id": "03ec9f58",
   "metadata": {},
   "outputs": [],
   "source": [
    "import numpy as np\n",
    "import matplotlib.pyplot as plt"
   ]
  },
  {
   "cell_type": "markdown",
   "id": "453857d5",
   "metadata": {},
   "source": [
    "![my picture](https://www.fatalerrors.org/images/blog/c6b544ae87e97d71cb450e434a8818a6.jpg)\n",
    "- apple_width ≈ 6cm\n",
    "- apple_length ≈ 6cm\n",
    "- banana_width ≈ 4cm\n",
    "- banana_length ≈ 8cm\n",
    "\n",
    "- apple = 0\n",
    "- banana = 1"
   ]
  },
  {
   "cell_type": "code",
   "execution_count": 100,
   "id": "a29ef39d",
   "metadata": {},
   "outputs": [],
   "source": [
    "n = 100\n",
    "apple_width = np.random.normal(6 ,1 ,n)\n",
    "apple_length = np.random.normal(6 ,1 ,n)\n",
    "banana_width = np.random.normal(4 ,1 ,n)\n",
    "banana_length = np.random.normal(8 ,1 ,n)"
   ]
  },
  {
   "cell_type": "code",
   "execution_count": 101,
   "id": "0a488134",
   "metadata": {},
   "outputs": [],
   "source": [
    "x_width = 3\n",
    "x_length = 9\n",
    "\n",
    "y_width = 7\n",
    "y_length = 5\n",
    "\n",
    "z_width = 5\n",
    "z_length = 7"
   ]
  },
  {
   "cell_type": "code",
   "execution_count": 102,
   "id": "195eb60a",
   "metadata": {},
   "outputs": [
    {
     "data": {
      "image/png": "[encoded data removed]",
      "text/plain": [
       "<Figure size 640x480 with 1 Axes>"
      ]
     },
     "metadata": {},
     "output_type": "display_data"
    }
   ],
   "source": [
    "plt.scatter(apple_width ,apple_length ,c='red' ,marker='.')\n",
    "plt.scatter(banana_width ,banana_length ,c='blue' ,marker='.')\n",
    "plt.scatter(x_width ,x_length ,c='yellow' ,marker='o')\n",
    "plt.scatter(y_width ,y_length ,c='green' ,marker='o')\n",
    "plt.scatter(z_width ,z_length ,c='black' ,marker='o')\n",
    "plt.title(\"apple and banana\")\n",
    "plt.xlabel('width')\n",
    "plt.ylabel('length')\n",
    "plt.show()"
   ]
  },
  {
   "cell_type": "code",
   "execution_count": null,
   "id": "dc7d9ab9",
   "metadata": {},
   "outputs": [
    {
     "data": {
      "text/plain": [
       "(200, 2)"
      ]
     },
     "execution_count": 103,
     "metadata": {},
     "output_type": "execute_result"
    }
   ],
   "source": [
    "width = np.concatenate((apple_width , banana_width))\n",
    "#width.shape\n",
    "length = np.concatenate((apple_length , banana_length))\n",
    "x_train = np.array((width , length)).T\n",
    "x_train.shape"
   ]
  },
  {
   "cell_type": "code",
   "execution_count": 104,
   "id": "6eba1273",
   "metadata": {},
   "outputs": [
    {
     "data": {
      "text/plain": [
       "array([0, 0, 0, 0, 0, 0, 0, 0, 0, 0, 0, 0, 0, 0, 0, 0, 0, 0, 0, 0, 0, 0,\n",
       "       0, 0, 0, 0, 0, 0, 0, 0, 0, 0, 0, 0, 0, 0, 0, 0, 0, 0, 0, 0, 0, 0,\n",
       "       0, 0, 0, 0, 0, 0, 0, 0, 0, 0, 0, 0, 0, 0, 0, 0, 0, 0, 0, 0, 0, 0,\n",
       "       0, 0, 0, 0, 0, 0, 0, 0, 0, 0, 0, 0, 0, 0, 0, 0, 0, 0, 0, 0, 0, 0,\n",
       "       0, 0, 0, 0, 0, 0, 0, 0, 0, 0, 0, 0, 1, 1, 1, 1, 1, 1, 1, 1, 1, 1,\n",
       "       1, 1, 1, 1, 1, 1, 1, 1, 1, 1, 1, 1, 1, 1, 1, 1, 1, 1, 1, 1, 1, 1,\n",
       "       1, 1, 1, 1, 1, 1, 1, 1, 1, 1, 1, 1, 1, 1, 1, 1, 1, 1, 1, 1, 1, 1,\n",
       "       1, 1, 1, 1, 1, 1, 1, 1, 1, 1, 1, 1, 1, 1, 1, 1, 1, 1, 1, 1, 1, 1,\n",
       "       1, 1, 1, 1, 1, 1, 1, 1, 1, 1, 1, 1, 1, 1, 1, 1, 1, 1, 1, 1, 1, 1,\n",
       "       1, 1])"
      ]
     },
     "execution_count": 104,
     "metadata": {},
     "output_type": "execute_result"
    }
   ],
   "source": [
    "y_apples = np.zeros(n , dtype='int')\n",
    "y_bananas = np.ones(n , dtype='int')\n",
    "y_train = np.concatenate((y_apples , y_bananas))\n",
    "y_train\n"
   ]
  },
  {
   "cell_type": "code",
   "execution_count": 105,
   "id": "280eb403",
   "metadata": {},
   "outputs": [],
   "source": [
    "def euclidean_distance(x1 ,x2):\n",
    "    return np.sqrt(np.sum((x1 - x2)**2))"
   ]
  },
  {
   "cell_type": "code",
   "execution_count": 106,
   "id": "ba76de8a",
   "metadata": {},
   "outputs": [
    {
     "data": {
      "text/plain": [
       "array([0, 1, 1, 0, 1])"
      ]
     },
     "execution_count": 106,
     "metadata": {},
     "output_type": "execute_result"
    }
   ],
   "source": [
    "\n",
    "new_fruit = np.array([5,7])\n",
    "k = 5\n",
    "\n",
    "distances = []\n",
    "for x in x_train:\n",
    "    d = euclidean_distance(new_fruit ,x)\n",
    "    distances.append(d)\n",
    "    \n",
    "clean_distances = [x.item() for x in distances]\n",
    "nearest_neighbors = np.argsort(clean_distances)[0:k]\n",
    "\n",
    "y_train[nearest_neighbors]"
   ]
  },
  {
   "cell_type": "code",
   "execution_count": 108,
   "id": "77f93607",
   "metadata": {},
   "outputs": [
    {
     "name": "stdout",
     "output_type": "stream",
     "text": [
      "banana🍌\n"
     ]
    }
   ],
   "source": [
    "result = np.bincount(y_train[nearest_neighbors])\n",
    "if np.argmax(result) == 0:\n",
    "    print(\"apple🍎\")\n",
    "else:\n",
    "    print(\"banana🍌\")"
   ]
  }
 ],
 "metadata": {
  "kernelspec": {
   "display_name": "Python 3",
   "language": "python",
   "name": "python3"
  },
  "language_info": {
   "codemirror_mode": {
    "name": "ipython",
    "version": 3
   },
   "file_extension": ".py",
   "mimetype": "text/x-python",
   "name": "python",
   "nbconvert_exporter": "python",
   "pygments_lexer": "ipython3",
   "version": "3.12.10"
  }
 },
 "nbformat": 4,
 "nbformat_minor": 5
}
